{
 "cells": [
  {
   "cell_type": "code",
   "execution_count": 1,
   "metadata": {},
   "outputs": [],
   "source": [
    "%load_ext autoreload\n",
    "%autoreload 2"
   ]
  },
  {
   "cell_type": "code",
   "execution_count": 2,
   "metadata": {},
   "outputs": [],
   "source": [
    "import warnings\n",
    "warnings.filterwarnings('ignore')"
   ]
  },
  {
   "cell_type": "markdown",
   "metadata": {},
   "source": [
    "# Link to the dataset\n",
    "\n",
    "https://www.kaggle.com/datasets/austinreese/usa-housing-listings"
   ]
  },
  {
   "cell_type": "code",
   "execution_count": 3,
   "metadata": {},
   "outputs": [],
   "source": [
    "import pandas as pd\n",
    "import numpy as np\n",
    "import os\n",
    "import matplotlib.pyplot as plt\n",
    "import seaborn as sns"
   ]
  },
  {
   "cell_type": "code",
   "execution_count": 4,
   "metadata": {},
   "outputs": [],
   "source": [
    "df = pd.read_csv('housing.csv')"
   ]
  },
  {
   "cell_type": "code",
   "execution_count": 5,
   "metadata": {},
   "outputs": [
    {
     "data": {
      "text/plain": [
       "(384977, 22)"
      ]
     },
     "execution_count": 5,
     "metadata": {},
     "output_type": "execute_result"
    }
   ],
   "source": [
    "df.shape"
   ]
  },
  {
   "cell_type": "code",
   "execution_count": 6,
   "metadata": {},
   "outputs": [
    {
     "data": {
      "text/html": [
       "<div>\n",
       "<style scoped>\n",
       "    .dataframe tbody tr th:only-of-type {\n",
       "        vertical-align: middle;\n",
       "    }\n",
       "\n",
       "    .dataframe tbody tr th {\n",
       "        vertical-align: top;\n",
       "    }\n",
       "\n",
       "    .dataframe thead th {\n",
       "        text-align: right;\n",
       "    }\n",
       "</style>\n",
       "<table border=\"1\" class=\"dataframe\">\n",
       "  <thead>\n",
       "    <tr style=\"text-align: right;\">\n",
       "      <th></th>\n",
       "      <th>id</th>\n",
       "      <th>url</th>\n",
       "      <th>region</th>\n",
       "      <th>region_url</th>\n",
       "      <th>price</th>\n",
       "      <th>type</th>\n",
       "      <th>sqfeet</th>\n",
       "      <th>beds</th>\n",
       "      <th>baths</th>\n",
       "      <th>cats_allowed</th>\n",
       "      <th>...</th>\n",
       "      <th>wheelchair_access</th>\n",
       "      <th>electric_vehicle_charge</th>\n",
       "      <th>comes_furnished</th>\n",
       "      <th>laundry_options</th>\n",
       "      <th>parking_options</th>\n",
       "      <th>image_url</th>\n",
       "      <th>description</th>\n",
       "      <th>lat</th>\n",
       "      <th>long</th>\n",
       "      <th>state</th>\n",
       "    </tr>\n",
       "  </thead>\n",
       "  <tbody>\n",
       "    <tr>\n",
       "      <th>0</th>\n",
       "      <td>7049044568</td>\n",
       "      <td>https://reno.craigslist.org/apa/d/reno-beautif...</td>\n",
       "      <td>reno / tahoe</td>\n",
       "      <td>https://reno.craigslist.org</td>\n",
       "      <td>1148</td>\n",
       "      <td>apartment</td>\n",
       "      <td>1078</td>\n",
       "      <td>3</td>\n",
       "      <td>2.0</td>\n",
       "      <td>1</td>\n",
       "      <td>...</td>\n",
       "      <td>0</td>\n",
       "      <td>0</td>\n",
       "      <td>0</td>\n",
       "      <td>w/d in unit</td>\n",
       "      <td>carport</td>\n",
       "      <td>https://images.craigslist.org/01616_daghmBUvTC...</td>\n",
       "      <td>Ridgeview by Vintage is where you will find al...</td>\n",
       "      <td>39.5483</td>\n",
       "      <td>-119.796</td>\n",
       "      <td>ca</td>\n",
       "    </tr>\n",
       "    <tr>\n",
       "      <th>1</th>\n",
       "      <td>7049047186</td>\n",
       "      <td>https://reno.craigslist.org/apa/d/reno-reduced...</td>\n",
       "      <td>reno / tahoe</td>\n",
       "      <td>https://reno.craigslist.org</td>\n",
       "      <td>1200</td>\n",
       "      <td>condo</td>\n",
       "      <td>1001</td>\n",
       "      <td>2</td>\n",
       "      <td>2.0</td>\n",
       "      <td>0</td>\n",
       "      <td>...</td>\n",
       "      <td>0</td>\n",
       "      <td>0</td>\n",
       "      <td>0</td>\n",
       "      <td>w/d hookups</td>\n",
       "      <td>carport</td>\n",
       "      <td>https://images.craigslist.org/00V0V_5va0MkgO9q...</td>\n",
       "      <td>Conveniently located in the middle town of Ren...</td>\n",
       "      <td>39.5026</td>\n",
       "      <td>-119.789</td>\n",
       "      <td>ca</td>\n",
       "    </tr>\n",
       "  </tbody>\n",
       "</table>\n",
       "<p>2 rows × 22 columns</p>\n",
       "</div>"
      ],
      "text/plain": [
       "           id                                                url  \\\n",
       "0  7049044568  https://reno.craigslist.org/apa/d/reno-beautif...   \n",
       "1  7049047186  https://reno.craigslist.org/apa/d/reno-reduced...   \n",
       "\n",
       "         region                   region_url  price       type  sqfeet  beds  \\\n",
       "0  reno / tahoe  https://reno.craigslist.org   1148  apartment    1078     3   \n",
       "1  reno / tahoe  https://reno.craigslist.org   1200      condo    1001     2   \n",
       "\n",
       "   baths  cats_allowed  ...  wheelchair_access  electric_vehicle_charge  \\\n",
       "0    2.0             1  ...                  0                        0   \n",
       "1    2.0             0  ...                  0                        0   \n",
       "\n",
       "   comes_furnished  laundry_options  parking_options  \\\n",
       "0                0      w/d in unit          carport   \n",
       "1                0      w/d hookups          carport   \n",
       "\n",
       "                                           image_url  \\\n",
       "0  https://images.craigslist.org/01616_daghmBUvTC...   \n",
       "1  https://images.craigslist.org/00V0V_5va0MkgO9q...   \n",
       "\n",
       "                                         description      lat     long  state  \n",
       "0  Ridgeview by Vintage is where you will find al...  39.5483 -119.796     ca  \n",
       "1  Conveniently located in the middle town of Ren...  39.5026 -119.789     ca  \n",
       "\n",
       "[2 rows x 22 columns]"
      ]
     },
     "execution_count": 6,
     "metadata": {},
     "output_type": "execute_result"
    }
   ],
   "source": [
    "df.head(2)"
   ]
  },
  {
   "cell_type": "markdown",
   "metadata": {},
   "source": [
    "# 1. Data Cleaning"
   ]
  },
  {
   "cell_type": "code",
   "execution_count": 7,
   "metadata": {},
   "outputs": [
    {
     "data": {
      "text/plain": [
       "id                              0\n",
       "url                             0\n",
       "region                          0\n",
       "region_url                      0\n",
       "price                           0\n",
       "type                            0\n",
       "sqfeet                          0\n",
       "beds                            0\n",
       "baths                           0\n",
       "cats_allowed                    0\n",
       "dogs_allowed                    0\n",
       "smoking_allowed                 0\n",
       "wheelchair_access               0\n",
       "electric_vehicle_charge         0\n",
       "comes_furnished                 0\n",
       "laundry_options             79026\n",
       "parking_options            140687\n",
       "image_url                       0\n",
       "description                     2\n",
       "lat                          1918\n",
       "long                         1918\n",
       "state                           0\n",
       "dtype: int64"
      ]
     },
     "execution_count": 7,
     "metadata": {},
     "output_type": "execute_result"
    }
   ],
   "source": [
    "df.isnull().sum()"
   ]
  },
  {
   "cell_type": "markdown",
   "metadata": {},
   "source": [
    "### 1.1 fill null values"
   ]
  },
  {
   "cell_type": "code",
   "execution_count": 8,
   "metadata": {},
   "outputs": [],
   "source": [
    "df['laundry_options'].fillna('no laundry on site', inplace=True)\n",
    "df['parking_options'].fillna('no parking', inplace=True)\n",
    "df['description'].fillna('no description', inplace=True)"
   ]
  },
  {
   "cell_type": "code",
   "execution_count": 9,
   "metadata": {},
   "outputs": [
    {
     "data": {
      "text/plain": [
       "id                            0\n",
       "url                           0\n",
       "region                        0\n",
       "region_url                    0\n",
       "price                         0\n",
       "type                          0\n",
       "sqfeet                        0\n",
       "beds                          0\n",
       "baths                         0\n",
       "cats_allowed                  0\n",
       "dogs_allowed                  0\n",
       "smoking_allowed               0\n",
       "wheelchair_access             0\n",
       "electric_vehicle_charge       0\n",
       "comes_furnished               0\n",
       "laundry_options               0\n",
       "parking_options               0\n",
       "image_url                     0\n",
       "description                   0\n",
       "lat                        1918\n",
       "long                       1918\n",
       "state                         0\n",
       "dtype: int64"
      ]
     },
     "execution_count": 9,
     "metadata": {},
     "output_type": "execute_result"
    }
   ],
   "source": [
    "df.isnull().sum()"
   ]
  },
  {
   "cell_type": "markdown",
   "metadata": {},
   "source": [
    "### 1.2 filter out records outside of the USA"
   ]
  },
  {
   "cell_type": "code",
   "execution_count": 10,
   "metadata": {},
   "outputs": [
    {
     "data": {
      "image/png": "[encoded data removed]",
      "text/plain": [
       "<Figure size 640x480 with 1 Axes>"
      ]
     },
     "metadata": {},
     "output_type": "display_data"
    }
   ],
   "source": [
    "import matplotlib.pyplot as plt\n",
    "import cartopy.crs as ccrs\n",
    "\n",
    "fig, ax = plt.subplots(subplot_kw={'projection': ccrs.PlateCarree()})\n",
    "ax.coastlines()\n",
    "\n",
    "lats = df['lat'].values\n",
    "lons = df['long'].values\n",
    "ax.scatter(lons, lats, color='red', transform=ccrs.PlateCarree())\n",
    "\n",
    "plt.show()\n"
   ]
  },
  {
   "cell_type": "code",
   "execution_count": 11,
   "metadata": {},
   "outputs": [],
   "source": [
    "lat_min_main, lat_max_main = 24.396308, 49.384358\n",
    "lon_min_main, lon_max_main = -125.0, -66.93457\n",
    "\n",
    "lat_min_hawaii, lat_max_hawaii = 18.5, 22.5\n",
    "lon_min_hawaii, lon_max_hawaii = -160, -154\n",
    "\n",
    "df = df[\n",
    "    ((df['lat'] >= lat_min_main) & \n",
    "     (df['lat'] <= lat_max_main) & \n",
    "     (df['long'] >= lon_min_main) & \n",
    "     (df['long'] <= lon_max_main)) |\n",
    "    ((df['lat'] >= lat_min_hawaii) & \n",
    "     (df['lat'] <= lat_max_hawaii) & \n",
    "     (df['long'] >= lon_min_hawaii) & \n",
    "     (df['long'] <= lon_max_hawaii))\n",
    "]\n"
   ]
  },
  {
   "cell_type": "code",
   "execution_count": 12,
   "metadata": {},
   "outputs": [
    {
     "data": {
      "image/png": "[encoded data removed]",
      "text/plain": [
       "<Figure size 640x480 with 1 Axes>"
      ]
     },
     "metadata": {},
     "output_type": "display_data"
    }
   ],
   "source": [
    "import matplotlib.pyplot as plt\n",
    "import cartopy.crs as ccrs\n",
    "\n",
    "fig, ax = plt.subplots(subplot_kw={'projection': ccrs.PlateCarree()})\n",
    "ax.coastlines()\n",
    "\n",
    "lats = df['lat'].values\n",
    "lons = df['long'].values\n",
    "ax.scatter(lons, lats, color='red', transform=ccrs.PlateCarree())\n",
    "\n",
    "plt.show()"
   ]
  },
  {
   "cell_type": "markdown",
   "metadata": {},
   "source": [
    "### 1.3. Drop columns that are meaningless for analysis"
   ]
  },
  {
   "cell_type": "code",
   "execution_count": 13,
   "metadata": {},
   "outputs": [],
   "source": [
    "df.drop(columns=['url', 'region_url', 'image_url'], inplace=True)"
   ]
  },
  {
   "cell_type": "code",
   "execution_count": 14,
   "metadata": {},
   "outputs": [
    {
     "data": {
      "text/plain": [
       "id                         0\n",
       "region                     0\n",
       "price                      0\n",
       "type                       0\n",
       "sqfeet                     0\n",
       "beds                       0\n",
       "baths                      0\n",
       "cats_allowed               0\n",
       "dogs_allowed               0\n",
       "smoking_allowed            0\n",
       "wheelchair_access          0\n",
       "electric_vehicle_charge    0\n",
       "comes_furnished            0\n",
       "laundry_options            0\n",
       "parking_options            0\n",
       "description                0\n",
       "lat                        0\n",
       "long                       0\n",
       "state                      0\n",
       "dtype: int64"
      ]
     },
     "execution_count": 14,
     "metadata": {},
     "output_type": "execute_result"
    }
   ],
   "source": [
    "df.isnull().sum()"
   ]
  },
  {
   "cell_type": "code",
   "execution_count": null,
   "metadata": {},
   "outputs": [],
   "source": []
  },
  {
   "cell_type": "markdown",
   "metadata": {},
   "source": [
    "### 1.4. Detect outliers"
   ]
  },
  {
   "cell_type": "code",
   "execution_count": 15,
   "metadata": {},
   "outputs": [
    {
     "data": {
      "text/plain": [
       "beds\n",
       "0        10836\n",
       "1       116120\n",
       "2       173539\n",
       "3        66133\n",
       "4        11394\n",
       "5         2301\n",
       "6          238\n",
       "7           49\n",
       "8           31\n",
       "1000         2\n",
       "1100         2\n",
       "Name: count, dtype: int64"
      ]
     },
     "execution_count": 15,
     "metadata": {},
     "output_type": "execute_result"
    }
   ],
   "source": [
    "df['beds'].value_counts().sort_index()"
   ]
  },
  {
   "cell_type": "code",
   "execution_count": 16,
   "metadata": {},
   "outputs": [],
   "source": [
    "df = df[df['beds'] < 10]"
   ]
  },
  {
   "cell_type": "code",
   "execution_count": null,
   "metadata": {},
   "outputs": [],
   "source": []
  },
  {
   "cell_type": "code",
   "execution_count": 17,
   "metadata": {},
   "outputs": [
    {
     "data": {
      "text/plain": [
       "baths\n",
       "1.0    195727\n",
       "2.0    133499\n",
       "1.5     27068\n",
       "2.5     12934\n",
       "3.0      5419\n",
       "0.0      3067\n",
       "4.0      1476\n",
       "3.5      1003\n",
       "4.5       223\n",
       "5.0       130\n",
       "5.5        57\n",
       "6.0        26\n",
       "7.0         4\n",
       "6.5         4\n",
       "7.5         2\n",
       "8.5         1\n",
       "8.0         1\n",
       "Name: count, dtype: int64"
      ]
     },
     "execution_count": 17,
     "metadata": {},
     "output_type": "execute_result"
    }
   ],
   "source": [
    "\"\"\"\n",
    "Fractional Bathroom Values Represent\n",
    "Whole Numbers (e.g., 1.0, 2.0): Represent the count of full bathrooms.\n",
    "Fractions (e.g., 1.5, 2.5): Represent a combination of full and half bathrooms:\n",
    "A full bathroom typically includes a toilet, sink, and shower/tub.\n",
    "A half bathroom (0.5) includes only a toilet and sink.\n",
    "\"\"\"\n",
    "\n",
    "df['baths'].value_counts() "
   ]
  },
  {
   "cell_type": "code",
   "execution_count": null,
   "metadata": {},
   "outputs": [],
   "source": []
  },
  {
   "cell_type": "code",
   "execution_count": 27,
   "metadata": {},
   "outputs": [
    {
     "name": "stdout",
     "output_type": "stream",
     "text": [
      "sqfeet min: 0\n",
      "sqfeet 25th quantile 750.0\n",
      "sqfeet median: 949.0\n",
      "sqfeet 75th quantile 1150.0\n",
      "sqfeet max: 14650\n"
     ]
    }
   ],
   "source": [
    "# 1000 sqft = 92.9 m^2\n",
    "# 15000 sqft = 1393 m^2\n",
    "\n",
    "print('sqfeet min:', df['sqfeet'].min()) \n",
    "print('sqfeet 25th quantile', df['sqfeet'].quantile(0.25))\n",
    "print('sqfeet median:', df['sqfeet'].median())\n",
    "print('sqfeet 75th quantile', df['sqfeet'].quantile(0.75))\n",
    "print('sqfeet max:', df['sqfeet'].max())\n",
    "\n",
    "df = df[(df['sqfeet'] > 100) & (df['sqfeet'] < 15000)]"
   ]
  },
  {
   "cell_type": "code",
   "execution_count": 28,
   "metadata": {},
   "outputs": [
    {
     "data": {
      "text/plain": [
       "<Axes: xlabel='sqfeet', ylabel='Density'>"
      ]
     },
     "execution_count": 28,
     "metadata": {},
     "output_type": "execute_result"
    },
    {
     "data": {
      "image/png": "[encoded data removed]",
      "text/plain": [
       "<Figure size 640x480 with 1 Axes>"
      ]
     },
     "metadata": {},
     "output_type": "display_data"
    }
   ],
   "source": [
    "sns.distplot(df['sqfeet'])"
   ]
  },
  {
   "cell_type": "code",
   "execution_count": null,
   "metadata": {},
   "outputs": [],
   "source": []
  },
  {
   "cell_type": "code",
   "execution_count": 30,
   "metadata": {},
   "outputs": [
    {
     "data": {
      "image/png": "[encoded data removed]",
      "text/plain": [
       "<Figure size 800x600 with 1 Axes>"
      ]
     },
     "metadata": {},
     "output_type": "display_data"
    }
   ],
   "source": [
    "plt.figure(figsize=(8, 6))\n",
    "sns.violinplot(x=df['price'], inner='box')\n",
    "plt.title('Violin Plot of Price')\n",
    "plt.xlabel('Price')\n",
    "plt.show()"
   ]
  },
  {
   "cell_type": "code",
   "execution_count": 31,
   "metadata": {},
   "outputs": [
    {
     "data": {
      "text/plain": [
       "(0, 2768307249)"
      ]
     },
     "execution_count": 31,
     "metadata": {},
     "output_type": "execute_result"
    }
   ],
   "source": [
    "df['price'].min(), df['price'].max()"
   ]
  },
  {
   "cell_type": "code",
   "execution_count": 40,
   "metadata": {},
   "outputs": [
    {
     "name": "stdout",
     "output_type": "stream",
     "text": [
      "Q1: 805.0, Q3: 1395.0, IQR: 590.0\n",
      "lower_bound: -80.0\n",
      "median: 1036.0\n",
      "upper_bound: 2280.0\n",
      "quantile 1: 349.0\n",
      "quantile 99: 3395.0\n"
     ]
    }
   ],
   "source": [
    "Q1 = df['price'].quantile(0.25)\n",
    "Q3 = df['price'].quantile(0.75)\n",
    "IQR = Q3 - Q1\n",
    "lower_bound = Q1 - 1.5 * IQR\n",
    "upper_bound = Q3 + 1.5 * IQR\n",
    "\n",
    "print(f\"Q1: {Q1}, Q3: {Q3}, IQR: {IQR}\")\n",
    "print('lower_bound:', lower_bound)\n",
    "print('median:', df['price'].median())\n",
    "print('upper_bound:', upper_bound)\n",
    "\n",
    "quantile_1 = df['price'].quantile(0.01)\n",
    "quantile_99 = df['price'].quantile(0.99)\n",
    "print('quantile 1:', df['price'].quantile(0.01))\n",
    "print('quantile 99:', df['price'].quantile(0.99))\n",
    "\n",
    "df = df[(df['price'] >= quantile_1) & (df['price'] < quantile_99)]"
   ]
  },
  {
   "cell_type": "code",
   "execution_count": 41,
   "metadata": {},
   "outputs": [
    {
     "data": {
      "image/png": "[encoded data removed]",
      "text/plain": [
       "<Figure size 800x600 with 1 Axes>"
      ]
     },
     "metadata": {},
     "output_type": "display_data"
    }
   ],
   "source": [
    "plt.figure(figsize=(8, 6))\n",
    "sns.violinplot(x=df['price'], inner='box')\n",
    "plt.title('Violin Plot of Price')\n",
    "plt.xlabel('Price')\n",
    "plt.show()"
   ]
  },
  {
   "cell_type": "code",
   "execution_count": null,
   "metadata": {},
   "outputs": [],
   "source": []
  },
  {
   "cell_type": "markdown",
   "metadata": {},
   "source": [
    "# 2. Exploratory Data Analysis"
   ]
  },
  {
   "cell_type": "code",
   "execution_count": 43,
   "metadata": {},
   "outputs": [
    {
     "data": {
      "text/html": [
       "<div>\n",
       "<style scoped>\n",
       "    .dataframe tbody tr th:only-of-type {\n",
       "        vertical-align: middle;\n",
       "    }\n",
       "\n",
       "    .dataframe tbody tr th {\n",
       "        vertical-align: top;\n",
       "    }\n",
       "\n",
       "    .dataframe thead th {\n",
       "        text-align: right;\n",
       "    }\n",
       "</style>\n",
       "<table border=\"1\" class=\"dataframe\">\n",
       "  <thead>\n",
       "    <tr style=\"text-align: right;\">\n",
       "      <th></th>\n",
       "      <th>count</th>\n",
       "      <th>mean</th>\n",
       "      <th>std</th>\n",
       "      <th>min</th>\n",
       "      <th>25%</th>\n",
       "      <th>50%</th>\n",
       "      <th>75%</th>\n",
       "      <th>max</th>\n",
       "    </tr>\n",
       "  </thead>\n",
       "  <tbody>\n",
       "    <tr>\n",
       "      <th>id</th>\n",
       "      <td>371985.0</td>\n",
       "      <td>7.040980e+09</td>\n",
       "      <td>8.794442e+06</td>\n",
       "      <td>7.003808e+09</td>\n",
       "      <td>7.035985e+09</td>\n",
       "      <td>7.043314e+09</td>\n",
       "      <td>7.048418e+09</td>\n",
       "      <td>7.051292e+09</td>\n",
       "    </tr>\n",
       "    <tr>\n",
       "      <th>price</th>\n",
       "      <td>371985.0</td>\n",
       "      <td>1.160538e+03</td>\n",
       "      <td>4.907028e+02</td>\n",
       "      <td>3.490000e+02</td>\n",
       "      <td>8.130000e+02</td>\n",
       "      <td>1.036000e+03</td>\n",
       "      <td>1.390000e+03</td>\n",
       "      <td>3.394000e+03</td>\n",
       "    </tr>\n",
       "    <tr>\n",
       "      <th>sqfeet</th>\n",
       "      <td>371985.0</td>\n",
       "      <td>9.906481e+02</td>\n",
       "      <td>3.896579e+02</td>\n",
       "      <td>1.010000e+02</td>\n",
       "      <td>7.500000e+02</td>\n",
       "      <td>9.480000e+02</td>\n",
       "      <td>1.144000e+03</td>\n",
       "      <td>1.465000e+04</td>\n",
       "    </tr>\n",
       "    <tr>\n",
       "      <th>beds</th>\n",
       "      <td>371985.0</td>\n",
       "      <td>1.885845e+00</td>\n",
       "      <td>8.662559e-01</td>\n",
       "      <td>0.000000e+00</td>\n",
       "      <td>1.000000e+00</td>\n",
       "      <td>2.000000e+00</td>\n",
       "      <td>2.000000e+00</td>\n",
       "      <td>8.000000e+00</td>\n",
       "    </tr>\n",
       "    <tr>\n",
       "      <th>baths</th>\n",
       "      <td>371985.0</td>\n",
       "      <td>1.474659e+00</td>\n",
       "      <td>5.805257e-01</td>\n",
       "      <td>0.000000e+00</td>\n",
       "      <td>1.000000e+00</td>\n",
       "      <td>1.000000e+00</td>\n",
       "      <td>2.000000e+00</td>\n",
       "      <td>7.500000e+00</td>\n",
       "    </tr>\n",
       "    <tr>\n",
       "      <th>cats_allowed</th>\n",
       "      <td>371985.0</td>\n",
       "      <td>7.324462e-01</td>\n",
       "      <td>4.426842e-01</td>\n",
       "      <td>0.000000e+00</td>\n",
       "      <td>0.000000e+00</td>\n",
       "      <td>1.000000e+00</td>\n",
       "      <td>1.000000e+00</td>\n",
       "      <td>1.000000e+00</td>\n",
       "    </tr>\n",
       "    <tr>\n",
       "      <th>dogs_allowed</th>\n",
       "      <td>371985.0</td>\n",
       "      <td>7.125691e-01</td>\n",
       "      <td>4.525649e-01</td>\n",
       "      <td>0.000000e+00</td>\n",
       "      <td>0.000000e+00</td>\n",
       "      <td>1.000000e+00</td>\n",
       "      <td>1.000000e+00</td>\n",
       "      <td>1.000000e+00</td>\n",
       "    </tr>\n",
       "    <tr>\n",
       "      <th>smoking_allowed</th>\n",
       "      <td>371985.0</td>\n",
       "      <td>7.357904e-01</td>\n",
       "      <td>4.409120e-01</td>\n",
       "      <td>0.000000e+00</td>\n",
       "      <td>0.000000e+00</td>\n",
       "      <td>1.000000e+00</td>\n",
       "      <td>1.000000e+00</td>\n",
       "      <td>1.000000e+00</td>\n",
       "    </tr>\n",
       "    <tr>\n",
       "      <th>wheelchair_access</th>\n",
       "      <td>371985.0</td>\n",
       "      <td>8.116187e-02</td>\n",
       "      <td>2.730839e-01</td>\n",
       "      <td>0.000000e+00</td>\n",
       "      <td>0.000000e+00</td>\n",
       "      <td>0.000000e+00</td>\n",
       "      <td>0.000000e+00</td>\n",
       "      <td>1.000000e+00</td>\n",
       "    </tr>\n",
       "    <tr>\n",
       "      <th>electric_vehicle_charge</th>\n",
       "      <td>371985.0</td>\n",
       "      <td>1.211877e-02</td>\n",
       "      <td>1.094163e-01</td>\n",
       "      <td>0.000000e+00</td>\n",
       "      <td>0.000000e+00</td>\n",
       "      <td>0.000000e+00</td>\n",
       "      <td>0.000000e+00</td>\n",
       "      <td>1.000000e+00</td>\n",
       "    </tr>\n",
       "    <tr>\n",
       "      <th>comes_furnished</th>\n",
       "      <td>371985.0</td>\n",
       "      <td>4.306625e-02</td>\n",
       "      <td>2.030066e-01</td>\n",
       "      <td>0.000000e+00</td>\n",
       "      <td>0.000000e+00</td>\n",
       "      <td>0.000000e+00</td>\n",
       "      <td>0.000000e+00</td>\n",
       "      <td>1.000000e+00</td>\n",
       "    </tr>\n",
       "    <tr>\n",
       "      <th>lat</th>\n",
       "      <td>371985.0</td>\n",
       "      <td>3.710568e+01</td>\n",
       "      <td>5.238229e+00</td>\n",
       "      <td>1.910020e+01</td>\n",
       "      <td>3.342370e+01</td>\n",
       "      <td>3.761930e+01</td>\n",
       "      <td>4.111080e+01</td>\n",
       "      <td>4.900120e+01</td>\n",
       "    </tr>\n",
       "    <tr>\n",
       "      <th>long</th>\n",
       "      <td>371985.0</td>\n",
       "      <td>-9.233729e+01</td>\n",
       "      <td>1.516919e+01</td>\n",
       "      <td>-1.595300e+02</td>\n",
       "      <td>-9.851270e+01</td>\n",
       "      <td>-8.758910e+01</td>\n",
       "      <td>-8.115250e+01</td>\n",
       "      <td>-6.748200e+01</td>\n",
       "    </tr>\n",
       "  </tbody>\n",
       "</table>\n",
       "</div>"
      ],
      "text/plain": [
       "                            count          mean           std           min  \\\n",
       "id                       371985.0  7.040980e+09  8.794442e+06  7.003808e+09   \n",
       "price                    371985.0  1.160538e+03  4.907028e+02  3.490000e+02   \n",
       "sqfeet                   371985.0  9.906481e+02  3.896579e+02  1.010000e+02   \n",
       "beds                     371985.0  1.885845e+00  8.662559e-01  0.000000e+00   \n",
       "baths                    371985.0  1.474659e+00  5.805257e-01  0.000000e+00   \n",
       "cats_allowed             371985.0  7.324462e-01  4.426842e-01  0.000000e+00   \n",
       "dogs_allowed             371985.0  7.125691e-01  4.525649e-01  0.000000e+00   \n",
       "smoking_allowed          371985.0  7.357904e-01  4.409120e-01  0.000000e+00   \n",
       "wheelchair_access        371985.0  8.116187e-02  2.730839e-01  0.000000e+00   \n",
       "electric_vehicle_charge  371985.0  1.211877e-02  1.094163e-01  0.000000e+00   \n",
       "comes_furnished          371985.0  4.306625e-02  2.030066e-01  0.000000e+00   \n",
       "lat                      371985.0  3.710568e+01  5.238229e+00  1.910020e+01   \n",
       "long                     371985.0 -9.233729e+01  1.516919e+01 -1.595300e+02   \n",
       "\n",
       "                                  25%           50%           75%  \\\n",
       "id                       7.035985e+09  7.043314e+09  7.048418e+09   \n",
       "price                    8.130000e+02  1.036000e+03  1.390000e+03   \n",
       "sqfeet                   7.500000e+02  9.480000e+02  1.144000e+03   \n",
       "beds                     1.000000e+00  2.000000e+00  2.000000e+00   \n",
       "baths                    1.000000e+00  1.000000e+00  2.000000e+00   \n",
       "cats_allowed             0.000000e+00  1.000000e+00  1.000000e+00   \n",
       "dogs_allowed             0.000000e+00  1.000000e+00  1.000000e+00   \n",
       "smoking_allowed          0.000000e+00  1.000000e+00  1.000000e+00   \n",
       "wheelchair_access        0.000000e+00  0.000000e+00  0.000000e+00   \n",
       "electric_vehicle_charge  0.000000e+00  0.000000e+00  0.000000e+00   \n",
       "comes_furnished          0.000000e+00  0.000000e+00  0.000000e+00   \n",
       "lat                      3.342370e+01  3.761930e+01  4.111080e+01   \n",
       "long                    -9.851270e+01 -8.758910e+01 -8.115250e+01   \n",
       "\n",
       "                                  max  \n",
       "id                       7.051292e+09  \n",
       "price                    3.394000e+03  \n",
       "sqfeet                   1.465000e+04  \n",
       "beds                     8.000000e+00  \n",
       "baths                    7.500000e+00  \n",
       "cats_allowed             1.000000e+00  \n",
       "dogs_allowed             1.000000e+00  \n",
       "smoking_allowed          1.000000e+00  \n",
       "wheelchair_access        1.000000e+00  \n",
       "electric_vehicle_charge  1.000000e+00  \n",
       "comes_furnished          1.000000e+00  \n",
       "lat                      4.900120e+01  \n",
       "long                    -6.748200e+01  "
      ]
     },
     "execution_count": 43,
     "metadata": {},
     "output_type": "execute_result"
    }
   ],
   "source": [
    "df.describe().T"
   ]
  },
  {
   "cell_type": "code",
   "execution_count": null,
   "metadata": {},
   "outputs": [],
   "source": []
  },
  {
   "cell_type": "code",
   "execution_count": null,
   "metadata": {},
   "outputs": [],
   "source": []
  },
  {
   "cell_type": "code",
   "execution_count": null,
   "metadata": {},
   "outputs": [],
   "source": []
  }
 ],
 "metadata": {
  "kernelspec": {
   "display_name": "Python 3",
   "language": "python",
   "name": "python3"
  },
  "language_info": {
   "codemirror_mode": {
    "name": "ipython",
    "version": 3
   },
   "file_extension": ".py",
   "mimetype": "text/x-python",
   "name": "python",
   "nbconvert_exporter": "python",
   "pygments_lexer": "ipython3",
   "version": "3.11.4"
  }
 },
 "nbformat": 4,
 "nbformat_minor": 2
}
