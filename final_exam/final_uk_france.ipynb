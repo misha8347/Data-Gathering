{
 "cells": [
  {
   "cell_type": "markdown",
   "metadata": {},
   "source": [
    "# Link to the datasets\n",
    "\n",
    "https://www.kaggle.com/datasets/arturdragunov/uk-weekly-real-estate-listings-2022-2023?select=UK_2023-01-15.csv\n",
    "\n",
    "https://www.kaggle.com/datasets/arturdragunov/france-weekly-real-estate-listings-2022-2023"
   ]
  },
  {
   "cell_type": "code",
   "execution_count": 31,
   "metadata": {},
   "outputs": [],
   "source": [
    "import pandas as pd\n",
    "import matplotlib.pyplot as plt\n",
    "import numpy as np"
   ]
  },
  {
   "cell_type": "code",
   "execution_count": 32,
   "metadata": {},
   "outputs": [],
   "source": [
    "uk = pd.read_csv('UK_clean_unique.csv')"
   ]
  },
  {
   "cell_type": "code",
   "execution_count": 33,
   "metadata": {},
   "outputs": [
    {
     "data": {
      "text/plain": [
       "Index(['MYYYY_generation', 'is_virtual_tour', 'is_audio_tour', 'county',\n",
       "       'date_of_data_generation', 'is_premium_listing', 'latitude',\n",
       "       'publication_id', 'longitude', 'isNew', 'num_bathrooms.x',\n",
       "       'num_bedrooms.x', 'num_floors', 'num_sofa', 'price', 'price_direction',\n",
       "       'property_badge', 'property_type', 'country', 'lagged_CPI',\n",
       "       'crime_rate', 'bank_rate', 'lagged_unemployment',\n",
       "       'lagged_arrears_over_2.5', 'volatility_value',\n",
       "       'num_bedrooms_categorical', 'num_bathrooms_categorical', 'nr_weeks'],\n",
       "      dtype='object')"
      ]
     },
     "execution_count": 33,
     "metadata": {},
     "output_type": "execute_result"
    }
   ],
   "source": [
    "uk.columns"
   ]
  },
  {
   "cell_type": "code",
   "execution_count": 34,
   "metadata": {},
   "outputs": [],
   "source": [
    "fr = pd.read_csv('France_clean_unique.csv')"
   ]
  },
  {
   "cell_type": "code",
   "execution_count": 35,
   "metadata": {},
   "outputs": [],
   "source": [
    "usa = pd.read_csv('housing.csv')"
   ]
  },
  {
   "cell_type": "code",
   "execution_count": 36,
   "metadata": {},
   "outputs": [
    {
     "data": {
      "text/plain": [
       "Index(['id', 'url', 'region', 'region_url', 'price', 'type', 'sqfeet', 'beds',\n",
       "       'baths', 'cats_allowed', 'dogs_allowed', 'smoking_allowed',\n",
       "       'wheelchair_access', 'electric_vehicle_charge', 'comes_furnished',\n",
       "       'laundry_options', 'parking_options', 'image_url', 'description', 'lat',\n",
       "       'long', 'state'],\n",
       "      dtype='object')"
      ]
     },
     "execution_count": 36,
     "metadata": {},
     "output_type": "execute_result"
    }
   ],
   "source": [
    "usa.columns"
   ]
  },
  {
   "cell_type": "code",
   "execution_count": 37,
   "metadata": {},
   "outputs": [],
   "source": [
    "def calculate_original_value(x):\n",
    "    \"\"\"\n",
    "    Calculate the original value from a variable x which is 1.1% of the original.\n",
    "    \"\"\"\n",
    "    return x / 0.011"
   ]
  },
  {
   "cell_type": "code",
   "execution_count": 38,
   "metadata": {},
   "outputs": [],
   "source": [
    "usa['orig_price'] = usa['price'].apply(calculate_original_value)"
   ]
  },
  {
   "cell_type": "code",
   "execution_count": 40,
   "metadata": {},
   "outputs": [
    {
     "data": {
      "text/plain": [
       "(225750.0, 255000.0, 802338.3925887429)"
      ]
     },
     "execution_count": 40,
     "metadata": {},
     "output_type": "execute_result"
    }
   ],
   "source": [
    "median_price_france = fr['price'].median()\n",
    "median_price_uk = uk['price'].median()\n",
    "median_price__usa = usa['orig_price'].mean()\n",
    "median_price_france, median_price_uk, median_price__usa\n"
   ]
  },
  {
   "cell_type": "code",
   "execution_count": 41,
   "metadata": {},
   "outputs": [
    {
     "name": "stdout",
     "output_type": "stream",
     "text": [
      "Country: France\n",
      "Property Price: 225750.00\n",
      "Down Payment: 45150.00\n",
      "Loan Amount: 180600.00\n",
      "Monthly Payment: 903.16\n",
      "Years to Repay: 6.16\n",
      "\n",
      "Country: United Kingdom\n",
      "Property Price: 255000.00\n",
      "Down Payment: 51000.00\n",
      "Loan Amount: 204000.00\n",
      "Monthly Payment: 1168.91\n",
      "Years to Repay: 8.77\n",
      "\n",
      "Country: USA\n",
      "Property Price: 802338.39\n",
      "Down Payment: 160467.68\n",
      "Loan Amount: 641870.71\n",
      "Monthly Payment: 4536.61\n",
      "Years to Repay: 8.67\n",
      "\n"
     ]
    }
   ],
   "source": [
    "down_payment_fraction = 0.20\n",
    "loan_term_years = 25\n",
    "loan_term_months = loan_term_years * 12\n",
    "\n",
    "def calculate_mortgage(country_name, property_price, annual_interest_rate, annual_net_salary):\n",
    "    \"\"\"\n",
    "    Calculate monthly mortgage payment and years to repay using given parameters.\n",
    "    \"\"\"\n",
    "    monthly_interest_rate = annual_interest_rate / 12\n",
    "\n",
    "    down_payment = property_price * down_payment_fraction\n",
    "    loan_amount = property_price - down_payment\n",
    "\n",
    "    monthly_payment = (\n",
    "        loan_amount * monthly_interest_rate * (1 + monthly_interest_rate) ** loan_term_months\n",
    "    ) / ((1 + monthly_interest_rate) ** loan_term_months - 1)\n",
    "\n",
    "    years_to_repay = (monthly_payment * loan_term_months) / annual_net_salary\n",
    "\n",
    "    return {\n",
    "        \"Country\": country_name,\n",
    "        \"Property Price\": property_price,\n",
    "        \"Down Payment\": down_payment,\n",
    "        \"Loan Amount\": loan_amount,\n",
    "        \"Monthly Payment\": monthly_payment,\n",
    "        \"Years to Repay\": years_to_repay\n",
    "    }\n",
    "\n",
    "france_data = {\n",
    "    \"country_name\": \"France\",\n",
    "    \"property_price\": median_price_france,  \n",
    "    \"annual_interest_rate\": 0.0349,  \n",
    "    \"annual_net_salary\": 43994  \n",
    "}\n",
    "\n",
    "uk_data = {\n",
    "    \"country_name\": \"United Kingdom\",\n",
    "    \"property_price\": median_price_uk,  \n",
    "    \"annual_interest_rate\": 0.048,  \n",
    "    \"annual_net_salary\": 40000 \n",
    "}\n",
    "\n",
    "usa_data = {\n",
    "    \"country_name\": \"USA\",\n",
    "    \"property_price\": median_price__usa,  \n",
    "    \"annual_interest_rate\": 0.07,  \n",
    "    \"annual_net_salary\": 157_000 \n",
    "}\n",
    "\n",
    "france_results = calculate_mortgage(**france_data)\n",
    "uk_results = calculate_mortgage(**uk_data)\n",
    "usa_results = calculate_mortgage(**usa_data)\n",
    "\n",
    "\n",
    "def display_results(results):\n",
    "    print(f\"Country: {results['Country']}\")\n",
    "    print(f\"Property Price: {results['Property Price']:.2f}\")\n",
    "    print(f\"Down Payment: {results['Down Payment']:.2f}\")\n",
    "    print(f\"Loan Amount: {results['Loan Amount']:.2f}\")\n",
    "    print(f\"Monthly Payment: {results['Monthly Payment']:.2f}\")\n",
    "    print(f\"Years to Repay: {results['Years to Repay']:.2f}\\n\")\n",
    "\n",
    "display_results(france_results)\n",
    "display_results(uk_results)\n",
    "display_results(usa_results)\n"
   ]
  },
  {
   "cell_type": "code",
   "execution_count": 42,
   "metadata": {},
   "outputs": [],
   "source": [
    "def sqft_to_m2(sqft):\n",
    "    m2 = sqft * 0.092903\n",
    "    return m2"
   ]
  },
  {
   "cell_type": "code",
   "execution_count": 49,
   "metadata": {},
   "outputs": [
    {
     "data": {
      "text/html": [
       "<div>\n",
       "<style scoped>\n",
       "    .dataframe tbody tr th:only-of-type {\n",
       "        vertical-align: middle;\n",
       "    }\n",
       "\n",
       "    .dataframe tbody tr th {\n",
       "        vertical-align: top;\n",
       "    }\n",
       "\n",
       "    .dataframe thead th {\n",
       "        text-align: right;\n",
       "    }\n",
       "</style>\n",
       "<table border=\"1\" class=\"dataframe\">\n",
       "  <thead>\n",
       "    <tr style=\"text-align: right;\">\n",
       "      <th></th>\n",
       "      <th>price</th>\n",
       "      <th>livingArea</th>\n",
       "      <th>num_rooms.x</th>\n",
       "      <th>City</th>\n",
       "      <th>isNew</th>\n",
       "      <th>isExclusiveness</th>\n",
       "    </tr>\n",
       "  </thead>\n",
       "  <tbody>\n",
       "    <tr>\n",
       "      <th>20</th>\n",
       "      <td>225000</td>\n",
       "      <td>36.00</td>\n",
       "      <td>2</td>\n",
       "      <td>Marseille</td>\n",
       "      <td>False</td>\n",
       "      <td>True</td>\n",
       "    </tr>\n",
       "    <tr>\n",
       "      <th>35</th>\n",
       "      <td>210000</td>\n",
       "      <td>42.00</td>\n",
       "      <td>2</td>\n",
       "      <td>Lyon</td>\n",
       "      <td>False</td>\n",
       "      <td>True</td>\n",
       "    </tr>\n",
       "    <tr>\n",
       "      <th>44</th>\n",
       "      <td>215000</td>\n",
       "      <td>40.00</td>\n",
       "      <td>2</td>\n",
       "      <td>Toulouse</td>\n",
       "      <td>False</td>\n",
       "      <td>True</td>\n",
       "    </tr>\n",
       "    <tr>\n",
       "      <th>50</th>\n",
       "      <td>234000</td>\n",
       "      <td>64.00</td>\n",
       "      <td>3</td>\n",
       "      <td>Toulouse</td>\n",
       "      <td>False</td>\n",
       "      <td>False</td>\n",
       "    </tr>\n",
       "    <tr>\n",
       "      <th>55</th>\n",
       "      <td>239000</td>\n",
       "      <td>69.29</td>\n",
       "      <td>3</td>\n",
       "      <td>Toulouse</td>\n",
       "      <td>False</td>\n",
       "      <td>True</td>\n",
       "    </tr>\n",
       "  </tbody>\n",
       "</table>\n",
       "</div>"
      ],
      "text/plain": [
       "     price  livingArea  num_rooms.x       City  isNew  isExclusiveness\n",
       "20  225000       36.00            2  Marseille  False             True\n",
       "35  210000       42.00            2       Lyon  False             True\n",
       "44  215000       40.00            2   Toulouse  False             True\n",
       "50  234000       64.00            3   Toulouse  False            False\n",
       "55  239000       69.29            3   Toulouse  False             True"
      ]
     },
     "execution_count": 49,
     "metadata": {},
     "output_type": "execute_result"
    }
   ],
   "source": [
    "tolerance = 0.1\n",
    "\n",
    "france_close_to_avg = fr[\n",
    "    (fr['price'] >= (median_price_france * (1 - tolerance))) &\n",
    "    (fr['price'] <= (median_price_france * (1 + tolerance)))\n",
    "]\n",
    "\n",
    "france_summary = france_close_to_avg[['price', 'livingArea', 'num_rooms.x', 'City', 'isNew', 'isExclusiveness']].head()\n",
    "\n",
    "uk_close_to_avg = uk[\n",
    "    (uk['price'] >= (median_price_uk * (1 - tolerance))) &\n",
    "    (uk['price'] <= (median_price_uk * (1 + tolerance)))\n",
    "]\n",
    "\n",
    "uk_summary = uk_close_to_avg[['price', 'num_bedrooms_categorical', 'num_bathrooms_categorical', 'county', 'isNew']].head()\n",
    "\n",
    "usa_close_to_avg = usa[\n",
    "    (usa['orig_price'] >= (median_price__usa * (1 - tolerance))) &\n",
    "    (usa['orig_price'] <= (median_price__usa * (1 + tolerance)))\n",
    "]\n",
    "\n",
    "usa_summary = usa_close_to_avg[['orig_price', 'sqfeet', 'beds', 'baths', 'region', 'type']].head()\n",
    "usa_summary['m2'] = usa_summary['sqfeet'].apply(sqft_to_m2)\n",
    "usa_summary = usa_summary.drop(columns=['sqfeet'])\n",
    "usa_summary = usa_summary[['orig_price', 'm2','beds', 'baths', 'region', 'type']]\n",
    "france_summary\n"
   ]
  },
  {
   "cell_type": "code",
   "execution_count": 50,
   "metadata": {},
   "outputs": [
    {
     "data": {
      "text/html": [
       "<div>\n",
       "<style scoped>\n",
       "    .dataframe tbody tr th:only-of-type {\n",
       "        vertical-align: middle;\n",
       "    }\n",
       "\n",
       "    .dataframe tbody tr th {\n",
       "        vertical-align: top;\n",
       "    }\n",
       "\n",
       "    .dataframe thead th {\n",
       "        text-align: right;\n",
       "    }\n",
       "</style>\n",
       "<table border=\"1\" class=\"dataframe\">\n",
       "  <thead>\n",
       "    <tr style=\"text-align: right;\">\n",
       "      <th></th>\n",
       "      <th>price</th>\n",
       "      <th>num_bedrooms_categorical</th>\n",
       "      <th>num_bathrooms_categorical</th>\n",
       "      <th>county</th>\n",
       "      <th>isNew</th>\n",
       "    </tr>\n",
       "  </thead>\n",
       "  <tbody>\n",
       "    <tr>\n",
       "      <th>0</th>\n",
       "      <td>250000</td>\n",
       "      <td>small</td>\n",
       "      <td>medium</td>\n",
       "      <td>London</td>\n",
       "      <td>False</td>\n",
       "    </tr>\n",
       "    <tr>\n",
       "      <th>28</th>\n",
       "      <td>270000</td>\n",
       "      <td>medium</td>\n",
       "      <td>small</td>\n",
       "      <td>West Midlands</td>\n",
       "      <td>False</td>\n",
       "    </tr>\n",
       "    <tr>\n",
       "      <th>31</th>\n",
       "      <td>260000</td>\n",
       "      <td>medium</td>\n",
       "      <td>medium</td>\n",
       "      <td>West Midlands</td>\n",
       "      <td>False</td>\n",
       "    </tr>\n",
       "    <tr>\n",
       "      <th>47</th>\n",
       "      <td>250000</td>\n",
       "      <td>medium</td>\n",
       "      <td>medium</td>\n",
       "      <td>West Midlands</td>\n",
       "      <td>True</td>\n",
       "    </tr>\n",
       "    <tr>\n",
       "      <th>55</th>\n",
       "      <td>239995</td>\n",
       "      <td>small</td>\n",
       "      <td>medium</td>\n",
       "      <td>West Midlands</td>\n",
       "      <td>True</td>\n",
       "    </tr>\n",
       "  </tbody>\n",
       "</table>\n",
       "</div>"
      ],
      "text/plain": [
       "     price num_bedrooms_categorical num_bathrooms_categorical         county  \\\n",
       "0   250000                    small                    medium         London   \n",
       "28  270000                   medium                     small  West Midlands   \n",
       "31  260000                   medium                    medium  West Midlands   \n",
       "47  250000                   medium                    medium  West Midlands   \n",
       "55  239995                    small                    medium  West Midlands   \n",
       "\n",
       "    isNew  \n",
       "0   False  \n",
       "28  False  \n",
       "31  False  \n",
       "47   True  \n",
       "55   True  "
      ]
     },
     "execution_count": 50,
     "metadata": {},
     "output_type": "execute_result"
    }
   ],
   "source": [
    "uk_summary"
   ]
  },
  {
   "cell_type": "code",
   "execution_count": 51,
   "metadata": {},
   "outputs": [
    {
     "data": {
      "text/html": [
       "<div>\n",
       "<style scoped>\n",
       "    .dataframe tbody tr th:only-of-type {\n",
       "        vertical-align: middle;\n",
       "    }\n",
       "\n",
       "    .dataframe tbody tr th {\n",
       "        vertical-align: top;\n",
       "    }\n",
       "\n",
       "    .dataframe thead th {\n",
       "        text-align: right;\n",
       "    }\n",
       "</style>\n",
       "<table border=\"1\" class=\"dataframe\">\n",
       "  <thead>\n",
       "    <tr style=\"text-align: right;\">\n",
       "      <th></th>\n",
       "      <th>orig_price</th>\n",
       "      <th>m2</th>\n",
       "      <th>beds</th>\n",
       "      <th>baths</th>\n",
       "      <th>region</th>\n",
       "      <th>type</th>\n",
       "    </tr>\n",
       "  </thead>\n",
       "  <tbody>\n",
       "    <tr>\n",
       "      <th>5082</th>\n",
       "      <td>722727.272727</td>\n",
       "      <td>371.612000</td>\n",
       "      <td>4</td>\n",
       "      <td>4.0</td>\n",
       "      <td>san diego</td>\n",
       "      <td>house</td>\n",
       "    </tr>\n",
       "    <tr>\n",
       "      <th>5894</th>\n",
       "      <td>768181.818182</td>\n",
       "      <td>160.071869</td>\n",
       "      <td>2</td>\n",
       "      <td>2.0</td>\n",
       "      <td>san diego</td>\n",
       "      <td>apartment</td>\n",
       "    </tr>\n",
       "    <tr>\n",
       "      <th>5898</th>\n",
       "      <td>768181.818182</td>\n",
       "      <td>160.071869</td>\n",
       "      <td>2</td>\n",
       "      <td>2.0</td>\n",
       "      <td>san diego</td>\n",
       "      <td>apartment</td>\n",
       "    </tr>\n",
       "    <tr>\n",
       "      <th>6427</th>\n",
       "      <td>772727.272727</td>\n",
       "      <td>353.031400</td>\n",
       "      <td>5</td>\n",
       "      <td>4.0</td>\n",
       "      <td>santa barbara</td>\n",
       "      <td>house</td>\n",
       "    </tr>\n",
       "    <tr>\n",
       "      <th>6512</th>\n",
       "      <td>722727.272727</td>\n",
       "      <td>248.887137</td>\n",
       "      <td>5</td>\n",
       "      <td>3.0</td>\n",
       "      <td>santa barbara</td>\n",
       "      <td>house</td>\n",
       "    </tr>\n",
       "  </tbody>\n",
       "</table>\n",
       "</div>"
      ],
      "text/plain": [
       "         orig_price          m2  beds  baths         region       type\n",
       "5082  722727.272727  371.612000     4    4.0      san diego      house\n",
       "5894  768181.818182  160.071869     2    2.0      san diego  apartment\n",
       "5898  768181.818182  160.071869     2    2.0      san diego  apartment\n",
       "6427  772727.272727  353.031400     5    4.0  santa barbara      house\n",
       "6512  722727.272727  248.887137     5    3.0  santa barbara      house"
      ]
     },
     "execution_count": 51,
     "metadata": {},
     "output_type": "execute_result"
    }
   ],
   "source": [
    "usa_summary"
   ]
  },
  {
   "cell_type": "code",
   "execution_count": null,
   "metadata": {},
   "outputs": [],
   "source": []
  }
 ],
 "metadata": {
  "kernelspec": {
   "display_name": "Python 3",
   "language": "python",
   "name": "python3"
  },
  "language_info": {
   "codemirror_mode": {
    "name": "ipython",
    "version": 3
   },
   "file_extension": ".py",
   "mimetype": "text/x-python",
   "name": "python",
   "nbconvert_exporter": "python",
   "pygments_lexer": "ipython3",
   "version": "3.11.4"
  }
 },
 "nbformat": 4,
 "nbformat_minor": 2
}
